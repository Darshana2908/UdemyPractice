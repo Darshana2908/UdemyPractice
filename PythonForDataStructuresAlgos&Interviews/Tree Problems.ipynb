{
 "cells": [
  {
   "cell_type": "code",
   "execution_count": 1,
   "metadata": {
    "collapsed": true
   },
   "outputs": [],
   "source": [
    "# Binary Search Tree Check - Method 1"
   ]
  },
  {
   "cell_type": "code",
   "execution_count": 4,
   "metadata": {},
   "outputs": [
    {
     "ename": "NameError",
     "evalue": "name 'tree' is not defined",
     "output_type": "error",
     "traceback": [
      "\u001b[1;31m---------------------------------------------------------------------------\u001b[0m",
      "\u001b[1;31mNameError\u001b[0m                                 Traceback (most recent call last)",
      "\u001b[1;32m<ipython-input-4-d04987cc849a>\u001b[0m in \u001b[0;36m<module>\u001b[1;34m()\u001b[0m\n\u001b[0;32m     10\u001b[0m     \u001b[1;32mreturn\u001b[0m \u001b[0mtree_vals\u001b[0m \u001b[1;33m==\u001b[0m \u001b[0msorted\u001b[0m\u001b[1;33m(\u001b[0m\u001b[0mtree_vals\u001b[0m\u001b[1;33m)\u001b[0m\u001b[1;33m\u001b[0m\u001b[0m\n\u001b[0;32m     11\u001b[0m \u001b[1;33m\u001b[0m\u001b[0m\n\u001b[1;32m---> 12\u001b[1;33m \u001b[0minorder\u001b[0m\u001b[1;33m(\u001b[0m\u001b[0mtree\u001b[0m\u001b[1;33m)\u001b[0m\u001b[1;33m\u001b[0m\u001b[0m\n\u001b[0m\u001b[0;32m     13\u001b[0m \u001b[0msort_check\u001b[0m\u001b[1;33m(\u001b[0m\u001b[0mtree_vals\u001b[0m\u001b[1;33m)\u001b[0m\u001b[1;33m\u001b[0m\u001b[0m\n",
      "\u001b[1;31mNameError\u001b[0m: name 'tree' is not defined"
     ]
    }
   ],
   "source": [
    "tree_vals = []\n",
    "\n",
    "def inorder(tree):\n",
    "    if tree != None:\n",
    "        inorder(tree.getLeftChild())\n",
    "        tree_vals.append(tree.getRootVal())\n",
    "        inorder(tree.getRightChild())\n",
    "        \n",
    "def sort_check(tree_vals):\n",
    "    return tree_vals == sorted(tree_vals)\n",
    "\n",
    "inorder(tree)\n",
    "sort_check(tree_vals)"
   ]
  },
  {
   "cell_type": "code",
   "execution_count": null,
   "metadata": {
    "collapsed": true
   },
   "outputs": [],
   "source": [
    "# Binary Search Tree Check - Method 2"
   ]
  },
  {
   "cell_type": "code",
   "execution_count": 3,
   "metadata": {},
   "outputs": [
    {
     "name": "stdout",
     "output_type": "stream",
     "text": [
      "True\n",
      "False\n"
     ]
    }
   ],
   "source": [
    "class Node:\n",
    "    def __init__(self, k, val):\n",
    "        self.key = k\n",
    "        self.value = val\n",
    "        self.left = None\n",
    "        self.right = None\n",
    "\n",
    "def tree_max(node):\n",
    "    if not node:\n",
    "        return float(\"-inf\")\n",
    "    maxleft  = tree_max(node.left)\n",
    "    maxright = tree_max(node.right)\n",
    "    return max(node.key, maxleft, maxright)\n",
    "\n",
    "def tree_min(node):\n",
    "    if not node:\n",
    "        return float(\"inf\")\n",
    "    minleft  = tree_min(node.left)\n",
    "    minright = tree_min(node.right)\n",
    "    return min(node.key, minleft, minright)\n",
    "\n",
    "def verify(node):\n",
    "    if not node:\n",
    "        return True\n",
    "    if (tree_max(node.left) <= node.key <= tree_min(node.right) and\n",
    "        verify(node.left) and verify(node.right)):\n",
    "        return True\n",
    "    else:\n",
    "        return False\n",
    "\n",
    "root= Node(10, \"Hello\")\n",
    "root.left = Node(5, \"Five\")\n",
    "root.right= Node(30, \"Thirty\")\n",
    "\n",
    "print(verify(root)) # prints True, since this tree is valid\n",
    "\n",
    "root = Node(10, \"Ten\")\n",
    "root.right = Node(20, \"Twenty\")\n",
    "root.left = Node(5, \"Five\")\n",
    "root.left.right = Node(15, \"Fifteen\")\n",
    "\n",
    "print(verify(root)) # prints False, since 15 is to the left of 10"
   ]
  },
  {
   "cell_type": "code",
   "execution_count": 5,
   "metadata": {
    "collapsed": true
   },
   "outputs": [],
   "source": [
    "# Tree Level Order Print"
   ]
  },
  {
   "cell_type": "code",
   "execution_count": 6,
   "metadata": {
    "collapsed": true
   },
   "outputs": [],
   "source": [
    "class Node:\n",
    "    def __init__(self, val=None):\n",
    "        self.left = None\n",
    "        self.right = None\n",
    "        self.val =  val "
   ]
  },
  {
   "cell_type": "code",
   "execution_count": 14,
   "metadata": {},
   "outputs": [],
   "source": [
    "import collections\n",
    "\n",
    "def levelOrderPrint(tree):\n",
    "    if not tree:\n",
    "        return\n",
    "    nodes=collections.deque([tree])\n",
    "    currentCount, nextCount = 1, 0\n",
    "    while len(nodes)!=0:\n",
    "        currentNode=nodes.popleft()\n",
    "        currentCount-=1\n",
    "        print (currentNode.val)\n",
    "        if currentNode.left:\n",
    "            nodes.append(currentNode.left)\n",
    "            nextCount+=1\n",
    "        if currentNode.right:\n",
    "            nodes.append(currentNode.right)\n",
    "            nextCount+=1\n",
    "        if currentCount==0:\n",
    "            #finished printing current level\n",
    "            print ('\\n')\n",
    "            currentCount, nextCount = nextCount, currentCount"
   ]
  },
  {
   "cell_type": "code",
   "execution_count": 15,
   "metadata": {
    "collapsed": true
   },
   "outputs": [],
   "source": [
    "root = Node(1)\n",
    "root.left = Node(2)\n",
    "root.right = Node(3)"
   ]
  },
  {
   "cell_type": "code",
   "execution_count": 16,
   "metadata": {},
   "outputs": [
    {
     "name": "stdout",
     "output_type": "stream",
     "text": [
      "1\n",
      "\n",
      "\n",
      "2\n",
      "3\n",
      "\n",
      "\n"
     ]
    }
   ],
   "source": [
    "levelOrderPrint(root)"
   ]
  },
  {
   "cell_type": "code",
   "execution_count": 17,
   "metadata": {
    "collapsed": true
   },
   "outputs": [],
   "source": [
    "# Trim a binary search tree"
   ]
  },
  {
   "cell_type": "code",
   "execution_count": 18,
   "metadata": {
    "collapsed": true
   },
   "outputs": [],
   "source": [
    "def trimBST(tree, minVal, maxVal): \n",
    "    \n",
    "    if not tree: \n",
    "        return \n",
    "    \n",
    "    tree.left=trimBST(tree.left, minVal, maxVal) \n",
    "    tree.right=trimBST(tree.right, minVal, maxVal) \n",
    "    \n",
    "    if minVal<=tree.val<=maxVal: \n",
    "        return tree \n",
    "    \n",
    "    if tree.val<minVal: \n",
    "        return tree.right \n",
    "    \n",
    "    if tree.val>maxVal: \n",
    "        return tree.left"
   ]
  },
  {
   "cell_type": "code",
   "execution_count": null,
   "metadata": {
    "collapsed": true
   },
   "outputs": [],
   "source": []
  }
 ],
 "metadata": {
  "kernelspec": {
   "display_name": "Python 3",
   "language": "python",
   "name": "python3"
  },
  "language_info": {
   "codemirror_mode": {
    "name": "ipython",
    "version": 3
   },
   "file_extension": ".py",
   "mimetype": "text/x-python",
   "name": "python",
   "nbconvert_exporter": "python",
   "pygments_lexer": "ipython3",
   "version": "3.6.3"
  }
 },
 "nbformat": 4,
 "nbformat_minor": 2
}
