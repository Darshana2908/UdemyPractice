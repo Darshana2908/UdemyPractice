{
 "cells": [
  {
   "cell_type": "code",
   "execution_count": 1,
   "metadata": {
    "collapsed": true
   },
   "outputs": [],
   "source": [
    "# Reverse a String"
   ]
  },
  {
   "cell_type": "code",
   "execution_count": 5,
   "metadata": {
    "collapsed": true
   },
   "outputs": [],
   "source": [
    "def reverse(s):\n",
    "    if len(s) <= 1:\n",
    "        return s\n",
    "    \n",
    "    return reverse(s[1:]) + s[0]"
   ]
  },
  {
   "cell_type": "code",
   "execution_count": 6,
   "metadata": {},
   "outputs": [
    {
     "data": {
      "text/plain": [
       "'dlrow olleh'"
      ]
     },
     "execution_count": 6,
     "metadata": {},
     "output_type": "execute_result"
    }
   ],
   "source": [
    "reverse(\"hello world\")"
   ]
  },
  {
   "cell_type": "code",
   "execution_count": 7,
   "metadata": {
    "collapsed": true
   },
   "outputs": [],
   "source": [
    "# String Permutation"
   ]
  },
  {
   "cell_type": "code",
   "execution_count": 8,
   "metadata": {
    "collapsed": true
   },
   "outputs": [],
   "source": [
    "def permutation(s):\n",
    "    \n",
    "    out = []\n",
    "    \n",
    "    #Base Case\n",
    "    if len(s) == 1:\n",
    "        out = [s]\n",
    "    \n",
    "    else:\n",
    "        \n",
    "        #For every letter in string\n",
    "        for i,let in enumerate(s):\n",
    "            \n",
    "            #For every permutation resulting from above\n",
    "            for perm in permutation(s[:i] + s[i+1:]):\n",
    "                \n",
    "                #Add it to out\n",
    "                out += [let+perm]\n",
    "    \n",
    "    return (out)"
   ]
  },
  {
   "cell_type": "code",
   "execution_count": 9,
   "metadata": {},
   "outputs": [
    {
     "data": {
      "text/plain": [
       "['hey', 'hye', 'ehy', 'eyh', 'yhe', 'yeh']"
      ]
     },
     "execution_count": 9,
     "metadata": {},
     "output_type": "execute_result"
    }
   ],
   "source": [
    "permutation(\"hey\")"
   ]
  },
  {
   "cell_type": "code",
   "execution_count": 10,
   "metadata": {
    "collapsed": true
   },
   "outputs": [],
   "source": [
    "# Fibonacci Series - method 1 - Recursion"
   ]
  },
  {
   "cell_type": "code",
   "execution_count": 11,
   "metadata": {
    "collapsed": true
   },
   "outputs": [],
   "source": [
    "def fib_rec(n):\n",
    "    if n==0 or n==1:\n",
    "        return n\n",
    "    \n",
    "    else:\n",
    "        return fib_rec(n-1) + fib_rec(n-2)"
   ]
  },
  {
   "cell_type": "code",
   "execution_count": 12,
   "metadata": {},
   "outputs": [
    {
     "data": {
      "text/plain": [
       "55"
      ]
     },
     "execution_count": 12,
     "metadata": {},
     "output_type": "execute_result"
    }
   ],
   "source": [
    "fib_rec(10)"
   ]
  },
  {
   "cell_type": "code",
   "execution_count": 13,
   "metadata": {
    "collapsed": true
   },
   "outputs": [],
   "source": [
    "# Fibonacci Series - method 2 - Iterative"
   ]
  },
  {
   "cell_type": "code",
   "execution_count": 14,
   "metadata": {
    "collapsed": true
   },
   "outputs": [],
   "source": [
    "def fib_iter(n):\n",
    "    a, b = 0, 1\n",
    "    for i in range(n):\n",
    "        a, b = b, a+b\n",
    "        \n",
    "    return a"
   ]
  },
  {
   "cell_type": "code",
   "execution_count": 15,
   "metadata": {},
   "outputs": [
    {
     "data": {
      "text/plain": [
       "55"
      ]
     },
     "execution_count": 15,
     "metadata": {},
     "output_type": "execute_result"
    }
   ],
   "source": [
    "fib_iter(10)"
   ]
  },
  {
   "cell_type": "code",
   "execution_count": 17,
   "metadata": {
    "collapsed": true
   },
   "outputs": [],
   "source": [
    "# Fibonacci Series - method 3 - Dynamic Programming using Memoization"
   ]
  },
  {
   "cell_type": "code",
   "execution_count": 18,
   "metadata": {
    "collapsed": true
   },
   "outputs": [],
   "source": [
    "#cache\n",
    "n = 10\n",
    "cache = [None]*(n+1)\n",
    "\n",
    "def fib_dyn(n):\n",
    "    #Base Case\n",
    "    if n==0 or n==1:\n",
    "        return n\n",
    "    \n",
    "    #Check Cache\n",
    "    if cache[n] != None:\n",
    "        return cache[n]\n",
    "    \n",
    "    #Keep setting cache\n",
    "    cache[n] = fib_dyn(n-1) + fib_dyn(n-2)\n",
    "    \n",
    "    return cache[n]"
   ]
  },
  {
   "cell_type": "code",
   "execution_count": 19,
   "metadata": {},
   "outputs": [
    {
     "data": {
      "text/plain": [
       "55"
      ]
     },
     "execution_count": 19,
     "metadata": {},
     "output_type": "execute_result"
    }
   ],
   "source": [
    "fib_dyn(10)"
   ]
  },
  {
   "cell_type": "code",
   "execution_count": 20,
   "metadata": {
    "collapsed": true
   },
   "outputs": [],
   "source": [
    "# Coin Change Problem - Method 1 - Recursion"
   ]
  },
  {
   "cell_type": "code",
   "execution_count": 25,
   "metadata": {
    "collapsed": true
   },
   "outputs": [],
   "source": [
    "def rec_coins(target, coins):\n",
    "    min_coins = target\n",
    "    \n",
    "    if target in coins:\n",
    "        return 1\n",
    "    \n",
    "    else:\n",
    "        #For every coin value that is <= my target\n",
    "        for i in [c for c in coins if c <= target]:\n",
    "            num_coins = 1 + rec_coins(target-i, coins)\n",
    "            \n",
    "            if num_coins < min_coins:\n",
    "                min_coins = num_coins\n",
    "    \n",
    "    return min_coins"
   ]
  },
  {
   "cell_type": "code",
   "execution_count": 26,
   "metadata": {},
   "outputs": [
    {
     "data": {
      "text/plain": [
       "2"
      ]
     },
     "execution_count": 26,
     "metadata": {},
     "output_type": "execute_result"
    }
   ],
   "source": [
    "rec_coins(15,[1,5,10])"
   ]
  },
  {
   "cell_type": "code",
   "execution_count": 21,
   "metadata": {
    "collapsed": true
   },
   "outputs": [],
   "source": [
    "# Coin Change Problem - Method 2 - Dynamic Programming using Memoization"
   ]
  },
  {
   "cell_type": "code",
   "execution_count": 40,
   "metadata": {},
   "outputs": [],
   "source": [
    "def rec_coin_dyn(target, coins, known_res):\n",
    "    min_coins = target\n",
    "    \n",
    "    if target in coins:\n",
    "        known_res[target] = 1\n",
    "        return 1\n",
    "    \n",
    "    elif known_res[target] > 0:\n",
    "        return known_res[target]\n",
    "    \n",
    "    else:\n",
    "        # For every coin value that is < = target\n",
    "        for i in [c for c in coins if c <= target]:\n",
    "            num_coins = 1 + rec_coin_dyn(target-i, coins, known_res)\n",
    "            if num_coins < min_coins:\n",
    "                min_coins = num_coins\n",
    "                known_res[target] = min_coins\n",
    "    \n",
    "    return min_coins"
   ]
  },
  {
   "cell_type": "code",
   "execution_count": 41,
   "metadata": {},
   "outputs": [
    {
     "data": {
      "text/plain": [
       "8"
      ]
     },
     "execution_count": 41,
     "metadata": {},
     "output_type": "execute_result"
    }
   ],
   "source": [
    "target = 74\n",
    "coins = [1,5,10,25]\n",
    "known_res = [0]*(target+1)\n",
    "\n",
    "rec_coin_dyn(target,coins,known_res)"
   ]
  }
 ],
 "metadata": {
  "kernelspec": {
   "display_name": "Python 3",
   "language": "python",
   "name": "python3"
  }
 },
 "nbformat": 4,
 "nbformat_minor": 2
}
