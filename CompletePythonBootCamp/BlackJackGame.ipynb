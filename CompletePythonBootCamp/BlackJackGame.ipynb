{
 "cells": [
  {
   "cell_type": "code",
   "execution_count": 3,
   "metadata": {
    "collapsed": true
   },
   "outputs": [],
   "source": [
    "#Used for card shuffle\n",
    "import random\n",
    "\n",
    "#Boolean used to know if hand is in play\n",
    "playing = False\n",
    "\n",
    "chip_pool = 100\n",
    "\n",
    "bet = 1\n",
    "\n",
    "restart_phrase = 'Press d to deal the cards again or press q to quit'"
   ]
  },
  {
   "cell_type": "code",
   "execution_count": 4,
   "metadata": {
    "collapsed": true
   },
   "outputs": [],
   "source": [
    "#Heart, Diamond, Club, Spade\n",
    "suits = ('H', 'D', 'C', 'S')\n",
    "\n",
    "#Possible card ranks\n",
    "ranking = ('A','2','3','4','5','6','7','8','9','10','J','Q','K')\n",
    "\n",
    "#Point values Dictionary\n",
    "card_val = {'A':1, '2':2, '3':3, '4':4, '5':5, '6':6, '7':7, '8':8, '9':9, '10':10, 'J':10, 'Q':10, 'K':10}"
   ]
  },
  {
   "cell_type": "code",
   "execution_count": 5,
   "metadata": {
    "collapsed": true
   },
   "outputs": [],
   "source": [
    "#Create a class Card\n",
    "class Card:\n",
    "    def __init__(self, suit, rank):\n",
    "        self.suit = suit\n",
    "        self.rank = rank\n",
    "        \n",
    "    def __str__(self):\n",
    "        return self.suit + self.rank\n",
    "    \n",
    "    def grab_suit(self):\n",
    "        return self.suit\n",
    "    \n",
    "    def grab_rank(self):\n",
    "        return self.rank\n",
    "    \n",
    "    def draw(self):\n",
    "        return (self.suit+self.rank)"
   ]
  },
  {
   "cell_type": "code",
   "execution_count": 32,
   "metadata": {
    "collapsed": true
   },
   "outputs": [],
   "source": [
    "#Create hand class\n",
    "class Hand:\n",
    "    def __init__(self):\n",
    "        self.cards=[]\n",
    "        self.value=0\n",
    "         # Aces can be 1 or 11 so need to define it here\n",
    "        self.ace = False\n",
    "        \n",
    "    def __str__(self):\n",
    "        '''Return a string of current hand composition'''\n",
    "        hand_comp=\"\"\n",
    "        \n",
    "        for card in self.cards:\n",
    "            card_name = card.__str__()\n",
    "            hand_comp += \" \"+ card_name\n",
    "            \n",
    "        return \"The hand has {}\".format(hand_comp)\n",
    "    \n",
    "    def card_add(self,card):\n",
    "        '''Append another card to hand'''\n",
    "        self.cards.append(card)\n",
    "        \n",
    "        #Check for Aces\n",
    "        if card.rank == 'A':\n",
    "            self.ace = True\n",
    "        \n",
    "        self.value += card_val[card.rank]\n",
    "            \n",
    "    def calc_rank(self):\n",
    "        '''Calculate the value of hand if they dont bust the hand'''\n",
    "        if(self.ace == True and self.value < 12):\n",
    "            return self.value+10\n",
    "        else:\n",
    "            return self.value\n",
    "    \n",
    "    def draw(self,hidden):\n",
    "        if hidden == True and playing == True:\n",
    "            #Don't show first card\n",
    "            starting_card = 1\n",
    "        else:\n",
    "            starting_card = 0\n",
    "            \n",
    "        for x in range(starting_card, len(self.cards)):\n",
    "            self.cards[x].draw()\n",
    "    "
   ]
  },
  {
   "cell_type": "code",
   "execution_count": 22,
   "metadata": {
    "collapsed": true
   },
   "outputs": [],
   "source": [
    "#Deck class\n",
    "class Deck():\n",
    "    def __init__(self):\n",
    "        '''Create a deck in order'''\n",
    "        self.deck = []\n",
    "        for suit in suits:\n",
    "            for rank in ranking:\n",
    "                self.deck.append(Card(suit,rank))\n",
    "    \n",
    "    def shuffle(self):\n",
    "        '''Inbuilt shuffle method in random lib'''\n",
    "        random.shuffle(self.deck)\n",
    "        \n",
    "    def deal(self):\n",
    "        '''Grab the first item in the deck'''\n",
    "        single_card = self.deck.pop()\n",
    "        return single_card\n",
    "    \n",
    "    def __str__(self):\n",
    "        deck_comp = \"\"\n",
    "        for card in self.cards:\n",
    "            deck_comp += \" \" + deck_comp.__str__()\n",
    "            \n",
    "        return \"The deck has {}\".format(deck_comp)"
   ]
  },
  {
   "cell_type": "code",
   "execution_count": 23,
   "metadata": {
    "collapsed": true
   },
   "outputs": [],
   "source": [
    "#Making a bet. Need to check if the bet amount is within the integer.\n",
    "def make_bet():\n",
    "    '''Ask the player for the bet amount'''\n",
    "    global bet\n",
    "    bet = 0\n",
    "    print (\"What amount of chips would you like to bet for?(Enter whole integer)\")\n",
    "    while bet == 0:\n",
    "        bet_comp = input()\n",
    "        bet_comp = int(bet_comp)\n",
    "        # Check to make sure the bet is within the remaining amount of chips left.\n",
    "        if bet_comp >= 1 and bet_comp <= chip_pool:\n",
    "            bet = bet_comp\n",
    "        else:\n",
    "            print (\"Invalid bet, you only have {} remaining\".format(str(chip_pool)))"
   ]
  },
  {
   "cell_type": "code",
   "execution_count": 24,
   "metadata": {
    "collapsed": true
   },
   "outputs": [],
   "source": [
    "#Deal card function\n",
    "def deal_cards():\n",
    "    ''' This function deals out cards and sets up round '''\n",
    "    # Set up all global variables\n",
    "    global result,playing,deck,player_hand,dealer_hand,chip_pool,bet\n",
    "    \n",
    "    # Create a deck\n",
    "    deck = Deck()\n",
    "    \n",
    "    #Shuffle it\n",
    "    deck.shuffle()\n",
    "    \n",
    "    #Set up bet\n",
    "    make_bet()\n",
    "    \n",
    "    # Set up both player and dealer hands\n",
    "    player_hand = Hand()\n",
    "    dealer_hand = Hand()\n",
    "    \n",
    "    # Deal out initial cards\n",
    "    player_hand.card_add(deck.deal())\n",
    "    player_hand.card_add(deck.deal())\n",
    "    \n",
    "    dealer_hand.card_add(deck.deal())\n",
    "    dealer_hand.card_add(deck.deal())\n",
    "    \n",
    "    result = \"Hit or Stand? Press either h or s: \"\n",
    "    \n",
    "    if playing == True:\n",
    "        print (\"Fold, Sorry\")\n",
    "        chip_pool -= bet\n",
    "        \n",
    "    # Set up to know currently playing hand\n",
    "    playing = True \n",
    "    game_step()"
   ]
  },
  {
   "cell_type": "code",
   "execution_count": 25,
   "metadata": {
    "collapsed": true
   },
   "outputs": [],
   "source": [
    "# Hit Function\n",
    "def hit():\n",
    "    ''' Implement the hit button '''\n",
    "    global playing,chip_pool,deck,player_hand,dealer_hand,result,bet\n",
    "    \n",
    "    # If hand is in play add card\n",
    "    if playing:\n",
    "        if player_hand.calc_rank() <= 21:\n",
    "            player_hand.card_add(deck.deal())\n",
    "        \n",
    "        print (\"Player hand is {}\".format(player_hand))\n",
    "        \n",
    "        if player_hand.calc_rank() > 21:\n",
    "            result = 'Busted! '+ restart_phrase\n",
    "            \n",
    "            chip_pool -= bet\n",
    "            playing = False\n",
    "    \n",
    "    else:\n",
    "        result = \"Sorry, can't hit\" + restart_phrase\n",
    "    \n",
    "    game_step()"
   ]
  },
  {
   "cell_type": "code",
   "execution_count": 34,
   "metadata": {
    "collapsed": true
   },
   "outputs": [],
   "source": [
    "#Stand function\n",
    "def stand():\n",
    "    ''' This function will now play the dealers hand, since stand was chosen '''\n",
    "    \n",
    "    global playing,chip_pool,deck,player_hand,dealer_hand,result,bet\n",
    "    \n",
    "    if playing == False:\n",
    "        if player_hand.calc_rank() > 0:\n",
    "            result = \"Sorry, you can't stand!\"\n",
    "            \n",
    "    # Now go through all the other possible options\n",
    "    else:\n",
    "        \n",
    "        # Soft 17 rule\n",
    "        while dealer_hand.calc_rank() < 17:\n",
    "            dealer_hand.card_add(deck.deal())\n",
    "            \n",
    "        # Dealer Busts    \n",
    "        if dealer_hand.calc_rank() > 21:\n",
    "            result = 'Dealer busts! You win!' + restart_phrase\n",
    "            chip_pool += bet\n",
    "            playing = False\n",
    "            \n",
    "        #Player has better hand than dealer\n",
    "        elif dealer_hand.calc_rank() < player_hand.calc_rank():\n",
    "            result = 'You beat the dealer, you win!' + restart_phrase\n",
    "            chip_pool += bet\n",
    "            playing = False\n",
    "        \n",
    "        # Push\n",
    "        elif dealer_hand.calc_rank() == player_hand.calc_rank():\n",
    "            result = 'Tied up, push!' + restart_phrase\n",
    "            playing = False\n",
    "        \n",
    "        # Dealer beats player\n",
    "        else:\n",
    "            result = 'Dealer Wins!' + restart_phrase\n",
    "            chip_pool -= bet\n",
    "            playing = False\n",
    "    game_step()"
   ]
  },
  {
   "cell_type": "code",
   "execution_count": 27,
   "metadata": {
    "collapsed": true
   },
   "outputs": [],
   "source": [
    "#Game step\n",
    "def game_step():\n",
    "    '''Function to print game step/status on output'''\n",
    "    \n",
    "    #Display Player Hand\n",
    "    print (\"\")\n",
    "    print(\"Player Hand is: \"),\n",
    "    player_hand.draw(hidden=False)\n",
    "    \n",
    "    print ('Player hand total is:{}'.format(str(player_hand.calc_rank())))\n",
    "    \n",
    "    #Display Dealer Hand\n",
    "    print('Dealer Hand is: '),\n",
    "    dealer_hand.draw(hidden=True)\n",
    "    \n",
    "    # If game round is over\n",
    "    if playing == False:\n",
    "        print  (\" --- for a total of {}\".format(str(dealer_hand.calc_rank())))\n",
    "        print (\"Chip Total: {}\".format(str(chip_pool)))\n",
    "    # Otherwise, don't know the second card yet\n",
    "    else: \n",
    "        print (\"with another card hidden upside down\")\n",
    "    \n",
    "    # Print result of hit or stand.\n",
    "    print (result)\n",
    "    \n",
    "    player_input()"
   ]
  },
  {
   "cell_type": "code",
   "execution_count": 28,
   "metadata": {
    "collapsed": true
   },
   "outputs": [],
   "source": [
    "#Exit the game\n",
    "def game_exit():\n",
    "    print ('Thanks for playing!')\n",
    "    exit()"
   ]
  },
  {
   "cell_type": "code",
   "execution_count": 29,
   "metadata": {
    "collapsed": true
   },
   "outputs": [],
   "source": [
    "#Player input\n",
    "def player_input():\n",
    "    ''' Read user input, lower case is just to be safe'''\n",
    "    plin = input().lower()\n",
    "    \n",
    "    \n",
    "    if plin == 'h':\n",
    "        hit()\n",
    "    elif plin == 's':\n",
    "        stand()\n",
    "    elif plin == 'd':\n",
    "        deal_cards()\n",
    "    elif plin == 'q':\n",
    "        game_exit()\n",
    "    else:\n",
    "        print (\"Invalid Input...Enter h, s, d, or q: \")\n",
    "        player_input()"
   ]
  },
  {
   "cell_type": "code",
   "execution_count": 30,
   "metadata": {
    "collapsed": true
   },
   "outputs": [],
   "source": [
    "#Intro to game\n",
    "def intro():\n",
    "    statement = '''Welcome to BlackJack! Get as close to 21 as you can without going over!\n",
    "    Dealer hits until she reaches 17. Aces count as 1 or 11.\n",
    "    Card output goes a letter followed by a number of face notation'''\n",
    "    print (statement)"
   ]
  },
  {
   "cell_type": "code",
   "execution_count": 2,
   "metadata": {},
   "outputs": [
    {
     "ename": "NameError",
     "evalue": "name 'Deck' is not defined",
     "output_type": "error",
     "traceback": [
      "\u001b[1;31m---------------------------------------------------------------------------\u001b[0m",
      "\u001b[1;31mNameError\u001b[0m                                 Traceback (most recent call last)",
      "\u001b[1;32m<ipython-input-2-4df0e06264cf>\u001b[0m in \u001b[0;36m<module>\u001b[1;34m()\u001b[0m\n\u001b[0;32m      2\u001b[0m \u001b[1;33m\u001b[0m\u001b[0m\n\u001b[0;32m      3\u001b[0m \u001b[1;31m# Create a Deck\u001b[0m\u001b[1;33m\u001b[0m\u001b[1;33m\u001b[0m\u001b[0m\n\u001b[1;32m----> 4\u001b[1;33m \u001b[0mdeck\u001b[0m \u001b[1;33m=\u001b[0m \u001b[0mDeck\u001b[0m\u001b[1;33m(\u001b[0m\u001b[1;33m)\u001b[0m\u001b[1;33m\u001b[0m\u001b[0m\n\u001b[0m\u001b[0;32m      5\u001b[0m \u001b[1;31m#Shuffle it\u001b[0m\u001b[1;33m\u001b[0m\u001b[1;33m\u001b[0m\u001b[0m\n\u001b[0;32m      6\u001b[0m \u001b[0mdeck\u001b[0m\u001b[1;33m.\u001b[0m\u001b[0mshuffle\u001b[0m\u001b[1;33m(\u001b[0m\u001b[1;33m)\u001b[0m\u001b[1;33m\u001b[0m\u001b[0m\n",
      "\u001b[1;31mNameError\u001b[0m: name 'Deck' is not defined"
     ]
    }
   ],
   "source": [
    "#Initiate the game\n",
    "\n",
    "# Create a Deck\n",
    "deck = Deck()\n",
    "#Shuffle it\n",
    "deck.shuffle()\n",
    "# Create player and dealer hands\n",
    "player_hand = Hand()\n",
    "dealer_hand = Hand()\n",
    "#Print the intro\n",
    "intro()\n",
    "# Deal out the cards and start the game!\n",
    "deal_cards()"
   ]
  },
  {
   "cell_type": "code",
   "execution_count": null,
   "metadata": {
    "collapsed": true
   },
   "outputs": [],
   "source": []
  }
 ],
 "metadata": {
  "kernelspec": {
   "display_name": "Python 3",
   "language": "python",
   "name": "python3"
  }
 },
 "nbformat": 4,
 "nbformat_minor": 2
}
